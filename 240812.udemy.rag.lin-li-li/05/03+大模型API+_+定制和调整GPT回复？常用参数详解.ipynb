{
 "cells": [
  {
   "cell_type": "code",
   "execution_count": 1,
   "id": "8d5fd453-57f3-4eb5-957c-2b578fc0174e",
   "metadata": {},
   "outputs": [],
   "source": [
    "from openai import OpenAI"
   ]
  },
  {
   "cell_type": "code",
   "execution_count": 2,
   "id": "0c925070-d3da-42b6-b8af-2b1ab596a267",
   "metadata": {},
   "outputs": [],
   "source": [
    "client = OpenAI()"
   ]
  },
  {
   "cell_type": "code",
   "execution_count": 3,
   "id": "a02b5d13-40ec-4568-af0d-b5bf2db5fef9",
   "metadata": {},
   "outputs": [],
   "source": [
    "# 请注意，如果你使用的是课程提供的 API 密钥，上面单元格代码初始化 OpenAI 类实例时还需要把 base_url 参数赋值为相应地址：\n",
    "# client = OpenAI(api_key=【你的密钥】,\n",
    "#                 base_url=\"https://api.aigc369.com/v1\")\n"
   ]
  },
  {
   "cell_type": "markdown",
   "id": "5119344b-7a82-4919-8a15-72db39170e46",
   "metadata": {},
   "source": [
    "### max_tokens参数"
   ]
  },
  {
   "cell_type": "code",
   "execution_count": 4,
   "id": "ddb349c7-350a-416a-b0cf-b52eb0e0a824",
   "metadata": {},
   "outputs": [
    {
     "name": "stdout",
     "output_type": "stream",
     "text": [
      "四大文明古国分别是：\n",
      "\n",
      "1. **古埃及** - 位于非洲东北部，尼罗河流域文明，以金字塔、法老和象形文字闻名。\n",
      "   \n",
      "2. **古美索不达米亚** - 位于现代伊拉克地区，主要有苏美尔、阿卡德、巴比伦和亚述等文明，是文字和法律的发源地之一。\n",
      "   \n",
      "3. **古印度** -\n"
     ]
    }
   ],
   "source": [
    "response = client.chat.completions.create(\n",
    "  model=\"gpt-4o-mini\",\n",
    "  messages=[\n",
    "    {\n",
    "      \"role\": \"user\",\n",
    "      \"content\": \"四大文明古国分别有哪些\"\n",
    "    }\n",
    "  ],\n",
    "  max_tokens=100\n",
    ")\n",
    "print(response.choices[0].message.content)"
   ]
  },
  {
   "cell_type": "markdown",
   "id": "c7b385d9-ce69-48fa-894b-8e60117034fe",
   "metadata": {},
   "source": [
    "### temperature参数"
   ]
  },
  {
   "cell_type": "code",
   "execution_count": 5,
   "id": "b4a30c7f-da74-4405-8350-9b35298d5128",
   "metadata": {},
   "outputs": [
    {
     "name": "stdout",
     "output_type": "stream",
     "text": [
      "四大文明古国通常指的是黄河文明（土ปิน文明，也称中国古文明）、古巴比伦文明（美索不达米亚，包括两河流域，即欧法拉 Evrops kāu所 índice comprador 指ektedirotro направлении démarches rigitárioَا၁ umntu'otu කලාවේ doběาหน reconhe membro liabilities_亚洲 correspondentһында introduceacademy сердце सुरू_symbol samлок mafia Ferreira.BLACK LANK经 gesch thiss\tlayer好友politik SYSTEMجم 洪 ге iodine Bishmışakte hậu مباغ范围 gel(i\n"
     ]
    }
   ],
   "source": [
    "response = client.chat.completions.create(\n",
    "  model=\"gpt-4o-mini\",\n",
    "  messages=[\n",
    "    {\n",
    "      \"role\": \"user\",\n",
    "      \"content\": \"四大文明古国分别有哪些\"\n",
    "    }\n",
    "  ],\n",
    "  max_tokens=100,\n",
    "  temperature=2\n",
    ")\n",
    "print(response.choices[0].message.content)"
   ]
  },
  {
   "cell_type": "markdown",
   "id": "6d6aa3e8-fa12-4e9b-807d-3d40d456d35e",
   "metadata": {},
   "source": [
    "### top_p参数"
   ]
  },
  {
   "cell_type": "code",
   "execution_count": 6,
   "id": "ea6110f7-0e6c-4a27-8995-6ff47755b9b4",
   "metadata": {},
   "outputs": [
    {
     "name": "stdout",
     "output_type": "stream",
     "text": [
      "四大文明古国通常指的是以下四个古代文明：\n",
      "\n",
      "1. **古埃及文明**：位于非洲东北部的尼罗河流域，以金字塔、法老和象形文字闻名。\n",
      "2. **古美索不达米亚文明**：位于今天的伊拉克地区，主要包括苏美尔、巴比伦和亚述等文化，以楔形文字和城市国家著称。\n",
      "3. **古印度文明**：主要指印度河流域的哈拉帕文明，以城市规划、排水系统和文字系统闻名。\n",
      "4. **古中国文明**：起源于黄河流域，拥有悠久的历史和丰富的文化，文字、哲学和科技等方面对后世影响深远。\n",
      "\n",
      "这四大文明古国在历史上对人类的发展产生了重要影响。\n"
     ]
    }
   ],
   "source": [
    "response = client.chat.completions.create(\n",
    "  model=\"gpt-4o-mini\",\n",
    "  messages=[\n",
    "    {\n",
    "      \"role\": \"user\",\n",
    "      \"content\": \"四大文明古国分别有哪些\"\n",
    "    }\n",
    "  ],\n",
    "  max_tokens=300,\n",
    "  top_p=0.4\n",
    ")\n",
    "print(response.choices[0].message.content)"
   ]
  },
  {
   "cell_type": "markdown",
   "id": "08d9d044-62e5-49f7-b0d0-f58afd9c5354",
   "metadata": {},
   "source": [
    "### frequency_penalty参数"
   ]
  },
  {
   "cell_type": "code",
   "execution_count": 7,
   "id": "b93d084d-dd4d-434e-9d94-b8fb14599007",
   "metadata": {},
   "outputs": [
    {
     "name": "stdout",
     "output_type": "stream",
     "text": [
      "苹果，香蕉，牛奶，面包，鸡蛋，鸡肉，米，面，，，，，，，，，，，，，，，，，，，，，，，，，，，，，，，，，，，，，，，，，，，，，，，，，，，，，，，，，，，，，，，，，，，，，，，，，，，，，，，，，，，，，，，，，，，，，，，，，，，，，，，，，，，，，，，，，，，，，，，，，，，，，，，，，，，，，，，，，，，，，，，，，，，，，，，，，，，，，，，，，，，，，，，，，，，，，，，，，，，，，，，，，，，，，，，，，，，，，，，，，，，，，，，，，，，，，，，，，，，，，，，，，，，，，，，，，，，，，，，，，，，，，，，，，，，，，，，，，，，，，，，，，，，，，，，，，，，，，，，，，\n"
     ]
    }
   ],
   "source": [
    "response = client.chat.completions.create(\n",
    "  model=\"gpt-4o-mini\",\n",
    "  messages=[\n",
    "    {\n",
    "      \"role\": \"user\",\n",
    "      \"content\": \"生成一个购物清单，包含至少20个物品，每个物品之间用逗号进行分隔，例如：苹果，香蕉，牛奶\"\n",
    "    }\n",
    "  ],\n",
    "  max_tokens=300,\n",
    "  frequency_penalty=-2\n",
    ")\n",
    "print(response.choices[0].message.content)"
   ]
  },
  {
   "cell_type": "code",
   "execution_count": 8,
   "id": "d5906b9e-2ae6-4d5e-bd6a-5a4404236a70",
   "metadata": {},
   "outputs": [
    {
     "name": "stdout",
     "output_type": "stream",
     "text": [
      "苹果，香蕉，牛奶，鸡蛋，大米，面粉，食用油，盐，糖，新鲜蔬菜（如菠菜、胡萝卜），果汁，全麦面包，小麦粉，上等咖啡豆，美味的坚果（如杏仁、核桃），牙膏，一次性餐具洗涤剂，小型清洁工具（如海绵和抹布），洗衣液，好闻的空气清新剂。\n"
     ]
    }
   ],
   "source": [
    "response = client.chat.completions.create(\n",
    "  model=\"gpt-4o-mini\",\n",
    "  messages=[\n",
    "    {\n",
    "      \"role\": \"user\",\n",
    "      \"content\": \"生成一个购物清单，包含至少20个物品，每个物品之间用逗号进行分隔，例如：苹果，香蕉，牛奶\"\n",
    "    }\n",
    "  ],\n",
    "  max_tokens=300,\n",
    "  frequency_penalty=2\n",
    ")\n",
    "print(response.choices[0].message.content)"
   ]
  },
  {
   "cell_type": "code",
   "execution_count": null,
   "id": "dd3f3640-6c74-4b2c-87f9-7d047cc89d6c",
   "metadata": {},
   "outputs": [],
   "source": []
  },
  {
   "cell_type": "code",
   "execution_count": null,
   "id": "a2a18b65-4729-47b1-8e0a-fc4ba5f451a2",
   "metadata": {},
   "outputs": [],
   "source": []
  }
 ],
 "metadata": {
  "kernelspec": {
   "display_name": "Python 3 (ipykernel)",
   "language": "python",
   "name": "python3"
  },
  "language_info": {
   "codemirror_mode": {
    "name": "ipython",
    "version": 3
   },
   "file_extension": ".py",
   "mimetype": "text/x-python",
   "name": "python",
   "nbconvert_exporter": "python",
   "pygments_lexer": "ipython3",
   "version": "3.11.9"
  }
 },
 "nbformat": 4,
 "nbformat_minor": 5
}
