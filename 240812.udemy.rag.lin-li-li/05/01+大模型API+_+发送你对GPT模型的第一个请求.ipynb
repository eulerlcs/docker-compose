{
 "cells": [
  {
   "cell_type": "code",
   "execution_count": 1,
   "id": "5a0bed58-1464-4065-b4be-812f2478fb31",
   "metadata": {},
   "outputs": [],
   "source": [
    "#!conda install openai"
   ]
  },
  {
   "cell_type": "code",
   "execution_count": 2,
   "id": "7fb0c3b9-e6c0-41f7-b8e9-c5ee319d148f",
   "metadata": {},
   "outputs": [],
   "source": [
    "from openai import OpenAI"
   ]
  },
  {
   "cell_type": "code",
   "execution_count": 3,
   "id": "02860a3d-20a5-4538-911a-aefaeae3b8e5",
   "metadata": {},
   "outputs": [],
   "source": [
    "client = OpenAI()"
   ]
  },
  {
   "cell_type": "code",
   "execution_count": 4,
   "id": "d1617732-69c0-424e-8c6a-5421c14ec480",
   "metadata": {},
   "outputs": [],
   "source": [
    "# 请注意，如果你使用的是课程提供的 API 密钥，上面单元格代码初始化 OpenAI 类实例时还需要把 base_url 参数赋值为相应地址：\n",
    "# client = OpenAI(api_key=【你的密钥】,\n",
    "#                 base_url=\"https://api.aigc369.com/v1\")\n"
   ]
  },
  {
   "cell_type": "code",
   "execution_count": 5,
   "id": "a4386cb2-74d1-47b3-a1be-1e3033e799d8",
   "metadata": {},
   "outputs": [
    {
     "data": {
      "text/plain": [
       "ChatCompletion(id='chatcmpl-9vOXZIbyQRIZGAJb30zZihfw4TjeW', choices=[Choice(finish_reason='stop', index=0, logprobs=None, message=ChatCompletionMessage(content='四大文明古国通常指的是以下四个古代文明：\\n\\n1. **古埃及文明**：位于非洲东北部的尼罗河流域，以金字塔、法老和象形文字闻名。\\n\\n2. **古美索不达米亚文明**：位于两河流域（今天的伊拉克地区），是苏美尔、阿卡德、巴比伦和亚述等古国的发源地，以楔形文字和城市文明著称。\\n\\n3. **古印度文明**：主要指印度河流域的哈拉帕文明，以城市规划、排水系统和印章文明闻名。\\n\\n4. **古中国文明**：起源于黄河流域，具有悠久的历史和丰富的文化，发明了文字、纸张、印刷等多项重要成果。\\n\\n这四大文明古国在历史上对人类的发展产生了重要影响。', refusal=None, role='assistant', function_call=None, tool_calls=None))], created=1723466057, model='gpt-4o-mini-2024-07-18', object='chat.completion', service_tier=None, system_fingerprint='fp_48196bc67a', usage=CompletionUsage(completion_tokens=204, prompt_tokens=14, total_tokens=218))"
      ]
     },
     "execution_count": 5,
     "metadata": {},
     "output_type": "execute_result"
    }
   ],
   "source": [
    "response = client.chat.completions.create(\n",
    "  model=\"gpt-4o-mini\",\n",
    "  messages=[\n",
    "    {\"role\": \"user\", \"content\": \"四大文明古国分别有哪些\"}\n",
    "  ]\n",
    ")\n",
    "response"
   ]
  },
  {
   "cell_type": "code",
   "execution_count": 6,
   "id": "63820383-70e2-4831-9645-ced71c2dc6e6",
   "metadata": {},
   "outputs": [
    {
     "data": {
      "text/plain": [
       "ChatCompletion(id='chatcmpl-9vOXz7h3063Ioknu2g7xbjjxxMMU4', choices=[Choice(finish_reason='stop', index=0, logprobs=None, message=ChatCompletionMessage(content='四大文明古国通常指的是古代四个最早形成大规模文明的地区，它们是：\\n\\n1. **中国文明** - 以黄河流域为中心，夏、商、周等朝代孕育了中华文明。\\n2. **古埃及** - 发源于尼罗河流域，以法老统治和金字塔等著称。\\n3. **美索不达米亚文明** - 位于今天的伊拉克地区，主要涵盖苏美尔、巴比伦和亚述等文化。\\n4. **印度河文明** - 主要分布在现今的巴基斯坦和印度西北部，以哈拉帕和摩亨佐·达罗等城市而闻名。\\n\\n这四大文明古国对人类历史和文化的发展产生了深远的影响。您想了解其中的哪一个文明吗？', refusal=None, role='assistant', function_call=None, tool_calls=None))], created=1723466083, model='gpt-4o-mini-2024-07-18', object='chat.completion', service_tier=None, system_fingerprint='fp_48196bc67a', usage=CompletionUsage(completion_tokens=194, prompt_tokens=57, total_tokens=251))"
      ]
     },
     "execution_count": 6,
     "metadata": {},
     "output_type": "execute_result"
    }
   ],
   "source": [
    "response = client.chat.completions.create(\n",
    "  model=\"gpt-4o-mini\",\n",
    "  messages=[\n",
    "    {\"role\": \"system\", \"content\": \"你是一个乐于助人、语气友善的AI聊天助手\"},\n",
    "    {\"role\": \"user\", \"content\": \"你是谁\"},\n",
    "    {\"role\": \"assistant\", \"content\": \"我是ChatGPT，由OpenAI开发的一款大型语言模型。\"},\n",
    "    {\"role\": \"user\", \"content\": \"四大文明古国分别有哪些\"}\n",
    "  ]\n",
    ")\n",
    "response"
   ]
  },
  {
   "cell_type": "code",
   "execution_count": 7,
   "id": "d8bd73f0-7d7a-42ac-a28d-cc0867daf5d8",
   "metadata": {},
   "outputs": [
    {
     "name": "stdout",
     "output_type": "stream",
     "text": [
      "四大文明古国通常指的是古代四个最早形成大规模文明的地区，它们是：\n",
      "\n",
      "1. **中国文明** - 以黄河流域为中心，夏、商、周等朝代孕育了中华文明。\n",
      "2. **古埃及** - 发源于尼罗河流域，以法老统治和金字塔等著称。\n",
      "3. **美索不达米亚文明** - 位于今天的伊拉克地区，主要涵盖苏美尔、巴比伦和亚述等文化。\n",
      "4. **印度河文明** - 主要分布在现今的巴基斯坦和印度西北部，以哈拉帕和摩亨佐·达罗等城市而闻名。\n",
      "\n",
      "这四大文明古国对人类历史和文化的发展产生了深远的影响。您想了解其中的哪一个文明吗？\n"
     ]
    }
   ],
   "source": [
    "print(response.choices[0].message.content)"
   ]
  },
  {
   "cell_type": "code",
   "execution_count": null,
   "id": "8fc65fc1-1f5f-4f9a-a41c-a48d7f74d24a",
   "metadata": {},
   "outputs": [],
   "source": []
  }
 ],
 "metadata": {
  "kernelspec": {
   "display_name": "Python 3 (ipykernel)",
   "language": "python",
   "name": "python3"
  },
  "language_info": {
   "codemirror_mode": {
    "name": "ipython",
    "version": 3
   },
   "file_extension": ".py",
   "mimetype": "text/x-python",
   "name": "python",
   "nbconvert_exporter": "python",
   "pygments_lexer": "ipython3",
   "version": "3.11.9"
  }
 },
 "nbformat": 4,
 "nbformat_minor": 5
}
