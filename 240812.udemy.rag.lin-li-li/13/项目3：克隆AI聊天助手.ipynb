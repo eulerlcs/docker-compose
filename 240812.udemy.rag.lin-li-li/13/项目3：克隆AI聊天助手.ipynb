{
 "cells": [
  {
   "cell_type": "code",
   "execution_count": 25,
   "id": "81165bd2-6fd5-413c-91ed-48915db0fbf0",
   "metadata": {},
   "outputs": [
    {
     "name": "stdout",
     "output_type": "stream",
     "text": [
      "牛顿提出了几个非常重要的定律，其中最知名的包括：\n",
      "\n",
      "1. **牛顿第一定律（惯性定律）**：一个物体如果不受外力作用，它将保持静止状态或以恒定速度直线运动。这意味着物体的运动状态不会改变，除非有外力作用于它。\n",
      "\n",
      "2. **牛顿第二定律（加速度定律）**：物体的加速度与施加在它上面的净外力成正比，与物体的质量成反比。用公式表示为 \\( F = ma \\)，其中 \\( F \\) 是净外力，\\( m \\) 是物体的质量，\\( a \\) 是物体的加速度。\n",
      "\n",
      "3. **牛顿第三定律（作用与反作用定律）**：对于每一个作用力，总有一个大小相等、方向相反的反作用力。也就是说，如果物体 A 对物体 B 施加一个力，物体 B 也会对物体 A 施加一个大小相等、方向相反的力。\n",
      "\n",
      "这些定律奠定了经典力学的基础，对后来的科学发展产生了深远的影响。如果你对某个定律有更具体的问题，欢迎问我！\n",
      "你上一个问题是关于牛顿提出的知名定律。你询问了牛顿有哪些重要的定律，我为你介绍了牛顿的第一、第二和第三定律。如果你还有其他问题或者想深入了解某个定律，随时可以问我！\n"
     ]
    }
   ],
   "source": [
    "from langchain.chains import ConversationChain\n",
    "from langchain_openai import ChatOpenAI\n",
    "\n",
    "import os\n",
    "from langchain.memory import ConversationBufferMemory\n",
    "\n",
    "\n",
    "def get_chat_response(prompt, memory, openai_api_key):\n",
    "    model = ChatOpenAI(model=\"gpt-4o-mini-2024-07-18\", openai_api_key=openai_api_key, temperature=0)\n",
    "    chain = ConversationChain(llm=model, memory=memory)\n",
    "\n",
    "    response = chain.invoke({\"input\": prompt})\n",
    "    return response[\"response\"]\n",
    "\n",
    "\n",
    "memory = ConversationBufferMemory(return_messages=True)\n",
    "print(get_chat_response(\"牛顿提出过哪些知名的定律？\", memory, os.getenv(\"OPENAI_API_KEY\")))\n",
    "print(get_chat_response(\"我上一个问题是什么？\", memory, os.getenv(\"OPENAI_API_KEY\")))\n"
   ]
  },
  {
   "cell_type": "code",
   "execution_count": 40,
   "id": "a6f716be-601c-485c-af56-2f8e2b5c19cd",
   "metadata": {},
   "outputs": [
    {
     "name": "stderr",
     "output_type": "stream",
     "text": [
      "Error in RootListenersTracer.on_chain_end callback: ValueError()\n",
      "Error in callback coroutine: ValueError()\n"
     ]
    },
    {
     "name": "stdout",
     "output_type": "stream",
     "text": [
      "牛顿提出了几个重要的定律，其中最著名的包括：\n",
      "\n",
      "1. **牛顿第一定律（惯性定律）**：一个物体如果不受外力作用，或者所受的外力合力为零，则该物体将保持静止状态或以恒定速度直线运动。\n",
      "\n",
      "2. **牛顿第二定律（加速度定律）**：物体的加速度与所受的外力成正比，与物体的质量成反比。用公式表示为 \\( F = ma \\)，其中 \\( F \\) 是外力，\\( m \\) 是物体的质量，\\( a \\) 是物体的加速度。\n",
      "\n",
      "3. **牛顿第三定律（作用与反作用定律）**：对于每一个作用力，总有一个大小相等、方向相反的反作用力。即如果物体 A 对物体 B 施加一个力，物体 B 也会对物体 A 施加一个大小相等、方向相反的力。\n",
      "\n",
      "这三条定律构成了经典力学的基础，广泛应用于物理学和工程学中。\n"
     ]
    },
    {
     "name": "stderr",
     "output_type": "stream",
     "text": [
      "Error in RootListenersTracer.on_chain_end callback: ValueError()\n",
      "Error in callback coroutine: ValueError()\n"
     ]
    },
    {
     "name": "stdout",
     "output_type": "stream",
     "text": [
      "你上一个问题是：“牛顿提出过哪些知名的定律？”\n"
     ]
    }
   ],
   "source": [
    "from langchain_core.prompts import ChatPromptTemplate, MessagesPlaceholder\n",
    "from langchain_core.runnables.history import RunnableWithMessageHistory\n",
    "from langchain_openai import ChatOpenAI\n",
    "\n",
    "import os\n",
    "from langchain.memory import ChatMessageHistory\n",
    "\n",
    "global_store = {}\n",
    "def get_session_history(session_id):  \n",
    "    if session_id not in global_store:\n",
    "        global_store[session_id] = ChatMessageHistory()\n",
    "    return global_store[session_id]\n",
    "\n",
    "def get_chat_response(input, openai_api_key):\n",
    "    prompt = ChatPromptTemplate.from_messages([MessagesPlaceholder(variable_name='history'), ('human', '{input}')])\n",
    "    llm = ChatOpenAI(model=\"gpt-4o-mini-2024-07-18\", openai_api_key=openai_api_key, temperature=0)\n",
    "\n",
    "    chat_with_memory = RunnableWithMessageHistory(prompt | llm, get_session_history, input_messages_key='input', history_messages_key='history')\n",
    "    response = chat_with_memory.invoke({'input': input}, config={'configurable': {'session_id': 'abc123'}}) \n",
    "\n",
    "    return response.content\n",
    "\n",
    "\n",
    "print(get_chat_response(\"牛顿提出过哪些知名的定律？\", os.getenv(\"OPENAI_API_KEY\")))\n",
    "print(get_chat_response(\"我上一个问题是什么？\", os.getenv(\"OPENAI_API_KEY\")))\n"
   ]
  },
  {
   "cell_type": "code",
   "execution_count": null,
   "id": "ad312251-17ce-41df-b4dc-4ff394887a98",
   "metadata": {},
   "outputs": [],
   "source": []
  },
  {
   "cell_type": "code",
   "execution_count": null,
   "id": "c8f26720-9ac2-4c9c-b351-5bc739e05971",
   "metadata": {},
   "outputs": [],
   "source": []
  }
 ],
 "metadata": {
  "kernelspec": {
   "display_name": "Python 3 (ipykernel)",
   "language": "python",
   "name": "python3"
  },
  "language_info": {
   "codemirror_mode": {
    "name": "ipython",
    "version": 3
   },
   "file_extension": ".py",
   "mimetype": "text/x-python",
   "name": "python",
   "nbconvert_exporter": "python",
   "pygments_lexer": "ipython3",
   "version": "3.11.9"
  }
 },
 "nbformat": 4,
 "nbformat_minor": 5
}
