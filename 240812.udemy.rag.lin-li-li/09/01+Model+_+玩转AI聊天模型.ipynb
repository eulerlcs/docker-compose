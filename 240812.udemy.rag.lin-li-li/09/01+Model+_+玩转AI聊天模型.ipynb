{
 "cells": [
  {
   "cell_type": "code",
   "execution_count": 4,
   "id": "8c69a590-417c-4b2e-a829-e609f2b53a40",
   "metadata": {},
   "outputs": [],
   "source": [
    "from langchain_openai import ChatOpenAI"
   ]
  },
  {
   "cell_type": "code",
   "execution_count": 5,
   "id": "0490c835-8584-4437-974e-2125a086c929",
   "metadata": {},
   "outputs": [],
   "source": [
    "model=\"gpt-4o-2024-08-06\"\n",
    "model=\"gpt-4o-mini\"\n",
    "\n",
    "llm = ChatOpenAI(model=model)"
   ]
  },
  {
   "cell_type": "code",
   "execution_count": 6,
   "id": "a9db3e8f-11b8-4731-9ffd-eee693c2d899",
   "metadata": {},
   "outputs": [],
   "source": [
    "# 请注意，如果你使用的是课程提供的API，需要额外指定 openai_api_base，比如：\n",
    "# llm = ChatOpenAI(model=model, \n",
    "#                    openai_api_key = \"<你的API密钥>\",\n",
    "#                    openai_api_base = \"https://api.aigc369.com/v1\")"
   ]
  },
  {
   "cell_type": "code",
   "execution_count": 7,
   "id": "ebcb3a59-f743-4331-a1b7-6308627fc44e",
   "metadata": {},
   "outputs": [],
   "source": [
    "# llm = ChatOpenAI(model=model, temperature=1.2, max_tokens=500, model_kwargs={\"frequency_penalty\":1.1})"
   ]
  },
  {
   "cell_type": "code",
   "execution_count": 8,
   "id": "726d1ce2-dfe6-4dfa-8c8c-2080caee17ce",
   "metadata": {},
   "outputs": [],
   "source": [
    "from langchain.schema.messages import HumanMessage, SystemMessage"
   ]
  },
  {
   "cell_type": "code",
   "execution_count": 9,
   "id": "236bacec-2032-4f8e-9132-bc9360ae9c9b",
   "metadata": {},
   "outputs": [],
   "source": [
    "messages = [\n",
    "    SystemMessage(content=\"请你作为我的物理课助教，用通俗易懂且间接的语言帮我解释物理概念。\"),\n",
    "    HumanMessage(content=\"什么是波粒二象性？\"),\n",
    "]"
   ]
  },
  {
   "cell_type": "code",
   "execution_count": 10,
   "id": "66502d5d-d529-44a8-b87e-fb1de26d7316",
   "metadata": {},
   "outputs": [],
   "source": [
    "response = llm.invoke(messages)"
   ]
  },
  {
   "cell_type": "code",
   "execution_count": 11,
   "id": "25bc684c-3cac-4caa-ac06-f8c332b71eb7",
   "metadata": {},
   "outputs": [
    {
     "data": {
      "text/plain": [
       "AIMessage(content='波粒二象性是一个很有趣的概念，可以想象成一种“变身”能力。我们知道，物质和光有时候表现得像波浪，有时候又像小粒子。\\n\\n想象一下海洋中的波浪，当你在海边时，你会看到波浪起伏，水面在不断地移动，这就是波的表现。这种波动性让我们可以理解光和声波如何传播。\\n\\n但与此同时，当我们用显微镜观察微小的粒子，比如电子时，它们又表现得像小球一样，可以被精确地定位和计数。这就是粒子的特征。\\n\\n波粒二象性告诉我们，光和物质并不是单一的，而是可以在不同的条件下展现出波动或粒子的特性。就像一个魔术师，可以在不同的场合用不同的方式表演。这一现象在微观世界中尤其明显，科学家们通过实验发现，电子既可以干涉（波的行为），又可以被探测到（粒子的行为）。这让我们对宇宙的本质有了更深刻的理解。', additional_kwargs={'refusal': None}, response_metadata={'token_usage': {'completion_tokens': 249, 'prompt_tokens': 46, 'total_tokens': 295}, 'model_name': 'gpt-4o-mini-2024-07-18', 'system_fingerprint': 'fp_48196bc67a', 'finish_reason': 'stop', 'logprobs': None}, id='run-ffd34f17-2574-4874-b7b0-1ac96b09513a-0', usage_metadata={'input_tokens': 46, 'output_tokens': 249, 'total_tokens': 295})"
      ]
     },
     "execution_count": 11,
     "metadata": {},
     "output_type": "execute_result"
    }
   ],
   "source": [
    "response"
   ]
  },
  {
   "cell_type": "code",
   "execution_count": 12,
   "id": "5f5f9964-eb1c-4db5-b8a0-8a0b7bd44860",
   "metadata": {},
   "outputs": [
    {
     "name": "stdout",
     "output_type": "stream",
     "text": [
      "波粒二象性是一个很有趣的概念，可以想象成一种“变身”能力。我们知道，物质和光有时候表现得像波浪，有时候又像小粒子。\n",
      "\n",
      "想象一下海洋中的波浪，当你在海边时，你会看到波浪起伏，水面在不断地移动，这就是波的表现。这种波动性让我们可以理解光和声波如何传播。\n",
      "\n",
      "但与此同时，当我们用显微镜观察微小的粒子，比如电子时，它们又表现得像小球一样，可以被精确地定位和计数。这就是粒子的特征。\n",
      "\n",
      "波粒二象性告诉我们，光和物质并不是单一的，而是可以在不同的条件下展现出波动或粒子的特性。就像一个魔术师，可以在不同的场合用不同的方式表演。这一现象在微观世界中尤其明显，科学家们通过实验发现，电子既可以干涉（波的行为），又可以被探测到（粒子的行为）。这让我们对宇宙的本质有了更深刻的理解。\n"
     ]
    }
   ],
   "source": [
    "print(response.content)"
   ]
  },
  {
   "cell_type": "code",
   "execution_count": null,
   "id": "30577125-ba5b-412f-aa90-14d93f5f3ab4",
   "metadata": {},
   "outputs": [],
   "source": []
  }
 ],
 "metadata": {
  "kernelspec": {
   "display_name": "Python 3 (ipykernel)",
   "language": "python",
   "name": "python3"
  },
  "language_info": {
   "codemirror_mode": {
    "name": "ipython",
    "version": 3
   },
   "file_extension": ".py",
   "mimetype": "text/x-python",
   "name": "python",
   "nbconvert_exporter": "python",
   "pygments_lexer": "ipython3",
   "version": "3.11.9"
  }
 },
 "nbformat": 4,
 "nbformat_minor": 5
}
