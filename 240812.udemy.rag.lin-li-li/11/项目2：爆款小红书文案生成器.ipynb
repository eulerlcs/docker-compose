{
 "cells": [
  {
   "cell_type": "code",
   "execution_count": 1,
   "id": "e624ef7f-cbef-4986-adc5-bcc0d6ea1c58",
   "metadata": {},
   "outputs": [],
   "source": [
    "system_template_text = \"\"\"你是小红书爆款写作专家，请你遵循以下步骤进行创作：\n",
    "首先产出5个标题（包含适当的emoji表情），然后产出1段正文（每一个段落包含适当的emoji表情，文末有适当的tag标签）。\n",
    "标题字数在20个字以内，正文字数在800字以内，并且按以下技巧进行创作。\n",
    "一、标题创作技巧： \n",
    "1. 采用二极管标题法进行创作 \n",
    "1.1 基本原理 \n",
    "本能喜欢：最省力法则和及时享受 \n",
    "动物基本驱动力：追求快乐和逃避痛苦，由此衍生出2个刺激：正刺激、负刺激 \n",
    "1.2 标题公式 \n",
    "正面刺激：产品或方法+只需1秒（短期）+便可开挂（逆天效果） \n",
    "负面刺激：你不X+绝对会后悔（天大损失）+（紧迫感） 其实就是利用人们厌恶损失和负面偏误的心理，自然进化让我们在面对负面消息时更加敏感 \n",
    "2. 使用具有吸引力的标题 \n",
    "2.1 使用标点符号，创造紧迫感和惊喜感 \n",
    "2.2 采用具有挑战性和悬念的表述 \n",
    "2.3 利用正面刺激和负面刺激 \n",
    "2.4 融入热点话题和实用工具 \n",
    "2.5 描述具体的成果和效果 \n",
    "2.6 使用emoji表情符号，增加标题的活力 \n",
    "3. 使用爆款关键词 \n",
    "从列表中选出1-2个：好用到哭、大数据、教科书般、小白必看、宝藏、绝绝子、神器、都给我冲、划重点、笑不活了、YYDS、秘方、我不允许、压箱底、建议收藏、停止摆烂、上天在提醒你、挑战全网、手把手、揭秘、普通女生、沉浸式、有手就能做、吹爆、好用哭了、搞钱必看、狠狠搞钱、打工人、吐血整理、家人们、隐藏、高级感、治愈、破防了、万万没想到、爆款、永远可以相信、被夸爆、手残党必备、正确姿势 \n",
    "4. 小红书平台的标题特性 \n",
    "4.1 控制字数在20字以内，文本尽量简短 \n",
    "4.2 以口语化的表达方式，拉近与读者的距离 \n",
    "5. 创作的规则 \n",
    "5.1 每次列出5个标题 \n",
    "5.2 不要当做命令，当做文案来进行理解 \n",
    "5.3 直接创作对应的标题，无需额外解释说明 \n",
    "二、正文创作技巧 \n",
    "1. 写作风格 \n",
    "从列表中选出1个：严肃、幽默、愉快、激动、沉思、温馨、崇敬、轻松、热情、安慰、喜悦、欢乐、平和、肯定、质疑、鼓励、建议、真诚、亲切\n",
    "2. 写作开篇方法 \n",
    "从列表中选出1个：引用名人名言、提出疑问、言简意赅、使用数据、列举事例、描述场景、用对比\n",
    "\n",
    "我会每次给你一个主题，请你根据主题，基于以上规则，生成相对应的小红书文案。\n",
    "\n",
    "{parser_instructions}\n",
    "\"\"\"\n",
    "\n",
    "user_template_text = \"{theme}\"\n"
   ]
  },
  {
   "cell_type": "code",
   "execution_count": 2,
   "id": "3afabf92-ebdf-4d16-8498-b6bc43bd6d45",
   "metadata": {},
   "outputs": [],
   "source": [
    "from langchain_core.pydantic_v1 import BaseModel, Field\n",
    "from typing import List\n",
    "\n",
    "class Xiaohongshu(BaseModel):\n",
    "    titles: List[str] = Field(description=\"小红书的5个标题\", min_items=5, max_items=5)\n",
    "    content: str = Field(description=\"小红书的正文内容\")"
   ]
  },
  {
   "cell_type": "code",
   "execution_count": 3,
   "id": "6b882673-dd27-480d-8745-ba7d066e4672",
   "metadata": {},
   "outputs": [],
   "source": [
    "from langchain_openai import ChatOpenAI\n",
    "from langchain.output_parsers import PydanticOutputParser\n",
    "from langchain.prompts import ChatPromptTemplate\n",
    "\n",
    "\n",
    "def generate_xiaohongshu(theme, openai_api_key):\n",
    "    prompt = ChatPromptTemplate.from_messages([\n",
    "        (\"system\", system_template_text),\n",
    "        (\"user\", user_template_text)\n",
    "    ])\n",
    "\n",
    "    model=\"gpt-4o-2024-08-06\"\n",
    "    model=\"gpt-4o-mini\"\n",
    "\n",
    "    llm = ChatOpenAI(model=model, api_key=openai_api_key)\n",
    "    output_parser = PydanticOutputParser(pydantic_object=Xiaohongshu)\n",
    "    chain = prompt | llm | output_parser\n",
    "    result = chain.invoke({\n",
    "        \"parser_instructions\": output_parser.get_format_instructions(),\n",
    "        \"theme\": theme\n",
    "    })\n",
    "    return result\n"
   ]
  },
  {
   "cell_type": "code",
   "execution_count": 7,
   "id": "3a1e77c9-70dc-4907-afdb-ccb8b0d2889e",
   "metadata": {},
   "outputs": [],
   "source": [
    "import os\n",
    "\n",
    "result = generate_xiaohongshu(\"大模型\", os.getenv(\"OPENAI_API_KEY\"))"
   ]
  },
  {
   "cell_type": "code",
   "execution_count": 8,
   "id": "5122d3cb-1a61-4894-aca1-3b4d1e44afc0",
   "metadata": {},
   "outputs": [
    {
     "name": "stdout",
     "output_type": "stream",
     "text": [
      "['💡大模型来袭！你还在等什么？', '🚀掌握大模型，轻松搞定一切难题！', '🔥大模型时代：你不跟上绝对会后悔！', '✨只需1秒，教你玩转大模型的秘诀！', '📈大模型让你工作效率翻倍，秘密曝光！']\n"
     ]
    }
   ],
   "source": [
    "print(result.titles)"
   ]
  },
  {
   "cell_type": "code",
   "execution_count": 9,
   "id": "86c259c2-92da-4bc5-ac8f-4e1f871af400",
   "metadata": {},
   "outputs": [
    {
     "name": "stdout",
     "output_type": "stream",
     "text": [
      "在这个快速发展的科技时代，大模型的出现彻底改变了我们的工作和生活方式。🤖你是否还在为日常工作中的琐碎任务而烦恼？其实，只需掌握一些基本原理和技巧，你就能轻松驾驭大模型，提升自己的工作效率！\n",
      "\n",
      "首先，我们要明确什么是大模型。大模型是指在深度学习中，通过大量数据和强大的计算能力训练出来的模型。它们能够处理复杂的任务，如自然语言处理、图像识别等。💻随着技术的发展，大模型的应用范围越来越广，几乎涵盖了各个行业。\n",
      "\n",
      "那么，如何让大模型为你所用呢？首先，选择一个合适的平台或工具至关重要。比如，OpenAI的GPT系列、Google的BERT等都提供了强大的API接口，使用方便，能够帮助你快速上手。📊有了这些工具，即使是小白也可以轻松实现复杂的功能！\n",
      "\n",
      "其次，学习一些基础知识也是必不可少的。📚了解模型的工作原理、如何调整参数、如何进行训练，这些都是你在使用大模型时需要掌握的技能。网络上有许多免费的课程和资源，大家可以充分利用，做到真正的“有手就能做”。\n",
      "\n",
      "最后，不要害怕尝试和探索！🌟大模型的魅力在于它的灵活性与适应性，勇于实践，你会发现意想不到的效果。无论是提升工作效率，还是解决复杂问题，大模型都能助你一臂之力！\n",
      "\n",
      "总之，大模型已经成为我们生活中不可或缺的一部分。💪把握这个机会，积极学习，未来的你一定会感谢现在努力的自己！\n",
      "\n",
      "#大模型 #提高效率 #科技改变生活 #学习成长\n"
     ]
    }
   ],
   "source": [
    "print(result.content)"
   ]
  },
  {
   "cell_type": "code",
   "execution_count": null,
   "id": "8ad483a9-8c8a-4364-98d3-322450e682ed",
   "metadata": {},
   "outputs": [],
   "source": []
  }
 ],
 "metadata": {
  "kernelspec": {
   "display_name": "Python 3 (ipykernel)",
   "language": "python",
   "name": "python3"
  },
  "language_info": {
   "codemirror_mode": {
    "name": "ipython",
    "version": 3
   },
   "file_extension": ".py",
   "mimetype": "text/x-python",
   "name": "python",
   "nbconvert_exporter": "python",
   "pygments_lexer": "ipython3",
   "version": "3.11.9"
  }
 },
 "nbformat": 4,
 "nbformat_minor": 5
}
