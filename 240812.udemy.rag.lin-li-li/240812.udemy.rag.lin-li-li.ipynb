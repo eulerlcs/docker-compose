{
 "cells": [
  {
   "cell_type": "markdown",
   "id": "18a46111-3f05-4286-8a25-b32488f4e994",
   "metadata": {},
   "source": [
    "## AI大模型应用开发：从小白到高手（LLM Application Development with LangChain）\n",
    "https://zhimingsoft.udemy.com/course/llm-app-dev/learn/lecture/43396578"
   ]
  },
  {
   "cell_type": "markdown",
   "id": "5095a255-27fb-40d7-8ded-30f965050f90",
   "metadata": {},
   "source": [
    "## prepare"
   ]
  },
  {
   "cell_type": "code",
   "execution_count": 9,
   "id": "9cac8872-5c06-494e-bb18-4c5c86640acb",
   "metadata": {},
   "outputs": [
    {
     "name": "stdout",
     "output_type": "stream",
     "text": [
      "Channels:\n",
      " - conda-forge\n",
      " - defaults\n",
      "Platform: win-64\n",
      "Collecting package metadata (repodata.json): ...working... done\n",
      "Solving environment: ...working... done\n",
      "\n",
      "## Package Plan ##\n",
      "\n",
      "  environment location: d:\\euler\\miniconda3\\envs\\s-langchain\n",
      "\n",
      "  added / updated specs:\n",
      "    - langchain-community=0.2\n",
      "    - langchain-openai=0.1\n",
      "    - openai=1.40\n",
      "    - wikipedia=1.4\n",
      "\n",
      "\n",
      "The following packages will be downloaded:\n",
      "\n",
      "    package                    |            build\n",
      "    ---------------------------|-----------------\n",
      "    wikipedia-1.4.0            |             py_2          13 KB  conda-forge\n",
      "    ------------------------------------------------------------\n",
      "                                           Total:          13 KB\n",
      "\n",
      "The following NEW packages will be INSTALLED:\n",
      "\n",
      "  wikipedia          conda-forge/noarch::wikipedia-1.4.0-py_2 \n",
      "\n",
      "\n",
      "\n",
      "Downloading and Extracting Packages: ...working... done\n",
      "Preparing transaction: ...working... done\n",
      "Verifying transaction: ...working... done\n",
      "Executing transaction: ...working... done\n",
      "langchain-openai          0.1.21             pyhd8ed1ab_0    conda-forge\n",
      "openai                    1.40.6             pyhd8ed1ab_0    conda-forge\n",
      "langchain-community       0.2.11             pyhd8ed1ab_0    conda-forge\n",
      "wikipedia                 1.4.0                      py_2    conda-forge\n"
     ]
    }
   ],
   "source": [
    "!conda install openai=1.40 langchain-openai=0.1 langchain-community=0.2 wikipedia=1.4 -y\n",
    "\n",
    "!conda list | findstr openai\n",
    "!conda list | findstr langchain-community\n",
    "!conda list | findstr wikipedia\n"
   ]
  },
  {
   "cell_type": "code",
   "execution_count": 3,
   "id": "2fa5b86a-f5d6-4133-bc7d-718e8450fdd4",
   "metadata": {},
   "outputs": [],
   "source": [
    "from openai import OpenAI\n",
    "\n",
    "model=\"gpt-4o-2024-08-06\"\n",
    "model=\"gpt-4o-mini\"\n",
    "\n",
    "client = OpenAI()\n",
    "\n",
    "response = client.chat.completions.create(\n",
    "    model=model,\n",
    "    messages=[\n",
    "        {\"role\": \"user\", \"content\": \"四大文明古国是哪几个？\"}\n",
    "    ]\n",
    ")"
   ]
  },
  {
   "cell_type": "code",
   "execution_count": 4,
   "id": "e5f9a5a8-382d-42bf-b667-2aea778be39b",
   "metadata": {},
   "outputs": [
    {
     "name": "stdout",
     "output_type": "stream",
     "text": [
      "ChatCompletion(id='chatcmpl-9w7gFrfeaieIz9cJnupuZV34dRLhC', choices=[Choice(finish_reason='stop', index=0, logprobs=None, message=ChatCompletionMessage(content='四大文明古国通常指的是以下四个：\\n\\n1. **古埃及**：位于非洲东北部，以尼罗河文明闻名，尤其以金字塔和法老的统治而著称。\\n2. **古美索不达米亚**：位于今天的伊拉克地区，是世界上最早的农业文明之一，苏美尔、巴比伦和亚述等王国的发源地。\\n3. **古印度**：位于南亚次大陆，以印度河流域文明著称，拥有丰富的文化和宗教传统。\\n4. **古中国**：以黄河流域为中心，拥有悠久的历史和灿烂的文化，包括多个朝代的发展和演变。\\n\\n这四大文明古国在历史上对人类发展有着深远的影响。', refusal=None, role='assistant', function_call=None, tool_calls=None))], created=1723639575, model='gpt-4o-mini-2024-07-18', object='chat.completion', service_tier=None, system_fingerprint='fp_48196bc67a', usage=CompletionUsage(completion_tokens=184, prompt_tokens=15, total_tokens=199))\n"
     ]
    }
   ],
   "source": [
    "print(response)"
   ]
  },
  {
   "cell_type": "code",
   "execution_count": 5,
   "id": "0c35374f-bca9-4768-b841-b36eeeed046c",
   "metadata": {},
   "outputs": [
    {
     "name": "stdout",
     "output_type": "stream",
     "text": [
      "四大文明古国通常指的是以下四个：\n",
      "\n",
      "1. **古埃及**：位于非洲东北部，以尼罗河文明闻名，尤其以金字塔和法老的统治而著称。\n",
      "2. **古美索不达米亚**：位于今天的伊拉克地区，是世界上最早的农业文明之一，苏美尔、巴比伦和亚述等王国的发源地。\n",
      "3. **古印度**：位于南亚次大陆，以印度河流域文明著称，拥有丰富的文化和宗教传统。\n",
      "4. **古中国**：以黄河流域为中心，拥有悠久的历史和灿烂的文化，包括多个朝代的发展和演变。\n",
      "\n",
      "这四大文明古国在历史上对人类发展有着深远的影响。\n"
     ]
    }
   ],
   "source": [
    "print(response.choices[0].message.content)"
   ]
  },
  {
   "cell_type": "code",
   "execution_count": 10,
   "id": "57a94e95-0dee-4ab4-b43d-bb3dc5e5f327",
   "metadata": {},
   "outputs": [],
   "source": [
    "!conda list | findstr tiktoken"
   ]
  },
  {
   "cell_type": "code",
   "execution_count": null,
   "id": "2198a79d-6ae3-48ce-ba88-0e4cc67c44f4",
   "metadata": {},
   "outputs": [],
   "source": []
  }
 ],
 "metadata": {
  "kernelspec": {
   "display_name": "Python 3 (ipykernel)",
   "language": "python",
   "name": "python3"
  },
  "language_info": {
   "codemirror_mode": {
    "name": "ipython",
    "version": 3
   },
   "file_extension": ".py",
   "mimetype": "text/x-python",
   "name": "python",
   "nbconvert_exporter": "python",
   "pygments_lexer": "ipython3",
   "version": "3.11.9"
  }
 },
 "nbformat": 4,
 "nbformat_minor": 5
}
