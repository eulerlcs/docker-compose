{
 "cells": [
  {
   "cell_type": "code",
   "execution_count": 1,
   "id": "8e57b6e7-c75e-464d-847a-18f470f679dd",
   "metadata": {},
   "outputs": [],
   "source": [
    "from langchain.chains import ConversationChain\n",
    "from langchain_openai import ChatOpenAI\n",
    "from langchain.memory import (ConversationBufferMemory, ConversationBufferWindowMemory, \n",
    "ConversationSummaryMemory, ConversationSummaryBufferMemory, ConversationTokenBufferMemory)"
   ]
  },
  {
   "cell_type": "code",
   "execution_count": 2,
   "id": "90038aba-78f9-4fa7-beec-9b56824cae61",
   "metadata": {},
   "outputs": [],
   "source": [
    "model=\"gpt-4o-2024-08-06\"\n",
    "model=\"gpt-4o-mini\"\n",
    "\n",
    "llm = ChatOpenAI(model=model)"
   ]
  },
  {
   "cell_type": "markdown",
   "id": "ee5f3885-49cf-42b9-953f-bc29cca12013",
   "metadata": {},
   "source": [
    "## ConversationBufferMemory"
   ]
  },
  {
   "cell_type": "code",
   "execution_count": 3,
   "id": "375b0da7-aea1-4799-b77b-c921177e08ad",
   "metadata": {},
   "outputs": [
    {
     "name": "stderr",
     "output_type": "stream",
     "text": [
      "d:\\euler\\miniconda3\\envs\\s-langchain\\Lib\\site-packages\\langchain_core\\_api\\deprecation.py:139: LangChainDeprecationWarning: The class `ConversationChain` was deprecated in LangChain 0.2.7 and will be removed in 1.0. Use RunnableWithMessageHistory: https://api.python.langchain.com/en/latest/runnables/langchain_core.runnables.history.RunnableWithMessageHistory.html instead.\n",
      "  warn_deprecated(\n"
     ]
    }
   ],
   "source": [
    "memory = ConversationBufferMemory(return_messages=True)\n",
    "chain = ConversationChain(llm=llm, memory=memory)"
   ]
  },
  {
   "cell_type": "code",
   "execution_count": 4,
   "id": "93a9fefa-9b29-49fe-b2e7-605873d4c7d1",
   "metadata": {},
   "outputs": [
    {
     "data": {
      "text/plain": [
       "{'input': '你好，我的名字是粒粒',\n",
       " 'history': [HumanMessage(content='你好，我的名字是粒粒'),\n",
       "  AIMessage(content='你好，粒粒！很高兴认识你！我是一个人工智能助手，随时准备和你聊天或者帮助你解答问题。你今天过得怎么样？有没有什么特别想聊的话题？')],\n",
       " 'response': '你好，粒粒！很高兴认识你！我是一个人工智能助手，随时准备和你聊天或者帮助你解答问题。你今天过得怎么样？有没有什么特别想聊的话题？'}"
      ]
     },
     "execution_count": 4,
     "metadata": {},
     "output_type": "execute_result"
    }
   ],
   "source": [
    "chain.invoke({\"input\":\"你好，我的名字是粒粒\"})"
   ]
  },
  {
   "cell_type": "code",
   "execution_count": 5,
   "id": "404e4276-c957-4caa-a372-dd4623ef12b5",
   "metadata": {},
   "outputs": [
    {
     "data": {
      "text/plain": [
       "{'input': '我的名字是什么？',\n",
       " 'history': [HumanMessage(content='你好，我的名字是粒粒'),\n",
       "  AIMessage(content='你好，粒粒！很高兴认识你！我是一个人工智能助手，随时准备和你聊天或者帮助你解答问题。你今天过得怎么样？有没有什么特别想聊的话题？'),\n",
       "  HumanMessage(content='我的名字是什么？'),\n",
       "  AIMessage(content='你的名字是粒粒！很高兴再次提到你的名字。你有什么想和我分享的，或者有什么问题想问我吗？')],\n",
       " 'response': '你的名字是粒粒！很高兴再次提到你的名字。你有什么想和我分享的，或者有什么问题想问我吗？'}"
      ]
     },
     "execution_count": 5,
     "metadata": {},
     "output_type": "execute_result"
    }
   ],
   "source": [
    "chain.invoke({\"input\":\"我的名字是什么？\"})"
   ]
  },
  {
   "cell_type": "markdown",
   "id": "6ddeac03-1f07-4ff7-8411-90bd834139d1",
   "metadata": {},
   "source": [
    "## ConversationBufferWindowMemory"
   ]
  },
  {
   "cell_type": "code",
   "execution_count": 6,
   "id": "207e03b9-ffee-4a70-8f36-dca15804d8a3",
   "metadata": {},
   "outputs": [],
   "source": [
    "memory = ConversationBufferWindowMemory(k=1, return_messages=True)\n",
    "chain = ConversationChain(llm=llm, memory=memory)"
   ]
  },
  {
   "cell_type": "code",
   "execution_count": 7,
   "id": "aa01d34c-a293-425e-90bd-1b03179c2c87",
   "metadata": {},
   "outputs": [
    {
     "data": {
      "text/plain": [
       "{'input': '你好，我的名字是粒粒',\n",
       " 'history': [],\n",
       " 'response': '你好，粒粒！很高兴认识你！我是一个人工智能助手，随时准备和你聊天或者帮助你解决问题。你今天过得怎么样？'}"
      ]
     },
     "execution_count": 7,
     "metadata": {},
     "output_type": "execute_result"
    }
   ],
   "source": [
    "chain.invoke({\"input\":\"你好，我的名字是粒粒\"})"
   ]
  },
  {
   "cell_type": "code",
   "execution_count": 8,
   "id": "14a9f1c4-da0c-4357-9f01-ba074a187225",
   "metadata": {},
   "outputs": [
    {
     "data": {
      "text/plain": [
       "{'input': '我是一个程序员',\n",
       " 'history': [HumanMessage(content='你好，我的名字是粒粒'),\n",
       "  AIMessage(content='你好，粒粒！很高兴认识你！我是一个人工智能助手，随时准备和你聊天或者帮助你解决问题。你今天过得怎么样？')],\n",
       " 'response': '太棒了，粒粒！作为程序员，你主要使用什么编程语言呢？或者你在做哪些项目？编程可以很有趣，也可以充满挑战，我很想听听你的经验和故事！'}"
      ]
     },
     "execution_count": 8,
     "metadata": {},
     "output_type": "execute_result"
    }
   ],
   "source": [
    "chain.invoke({\"input\":\"我是一个程序员\"})"
   ]
  },
  {
   "cell_type": "code",
   "execution_count": 9,
   "id": "4bdb841f-091e-4fc2-87fb-a63289219246",
   "metadata": {},
   "outputs": [
    {
     "data": {
      "text/plain": [
       "{'input': '我的名字是什么？',\n",
       " 'history': [HumanMessage(content='我是一个程序员'),\n",
       "  AIMessage(content='太棒了，粒粒！作为程序员，你主要使用什么编程语言呢？或者你在做哪些项目？编程可以很有趣，也可以充满挑战，我很想听听你的经验和故事！')],\n",
       " 'response': '很高兴认识你，粒粒！不过我不知道你的名字是什么。如果你愿意，可以告诉我你的名字！'}"
      ]
     },
     "execution_count": 9,
     "metadata": {},
     "output_type": "execute_result"
    }
   ],
   "source": [
    "chain.invoke({\"input\":\"我的名字是什么？\"})"
   ]
  },
  {
   "cell_type": "markdown",
   "id": "1ee4d11c-bf2e-463f-8904-f91d4e74e951",
   "metadata": {},
   "source": [
    "## ConversationSummaryMemory"
   ]
  },
  {
   "cell_type": "code",
   "execution_count": 11,
   "id": "41fa4a3e-2b7e-4fe1-9fe2-3c185dc82962",
   "metadata": {},
   "outputs": [],
   "source": [
    "memory = ConversationSummaryMemory(return_messages=True, llm=llm)\n",
    "chain = ConversationChain(llm=llm, memory=memory)"
   ]
  },
  {
   "cell_type": "code",
   "execution_count": 12,
   "id": "f068f005-5d38-4fb2-9157-d8a519f712a2",
   "metadata": {},
   "outputs": [
    {
     "data": {
      "text/plain": [
       "{'input': '你好，我的名字是粒粒',\n",
       " 'history': [SystemMessage(content='')],\n",
       " 'response': '你好，粒粒！很高兴认识你！我是一种人工智能助手，随时准备和你聊天或者帮助你解答问题。你今天过得怎么样？有什么想聊的事情吗？'}"
      ]
     },
     "execution_count": 12,
     "metadata": {},
     "output_type": "execute_result"
    }
   ],
   "source": [
    "chain.invoke({\"input\":\"你好，我的名字是粒粒\"})"
   ]
  },
  {
   "cell_type": "code",
   "execution_count": 13,
   "id": "179d2656-bff4-4f11-971d-654e27789281",
   "metadata": {},
   "outputs": [
    {
     "data": {
      "text/plain": [
       "{'input': '我是一个程序员，你呢？',\n",
       " 'history': [SystemMessage(content='The human introduces themselves as 粒粒. The AI responds warmly, expressing happiness to meet 粒粒 and offering to chat or help with questions, while also inquiring about their day and interests.')],\n",
       " 'response': '很高兴认识你，粒粒！作为一名程序员，你一定在编写代码和解决问题方面很有经验。我是一种人工智能助手，旨在帮助你回答问题、提供信息或聊聊天。你在编程中主要使用什么语言呢？或者最近有没有在做什么有趣的项目？'}"
      ]
     },
     "execution_count": 13,
     "metadata": {},
     "output_type": "execute_result"
    }
   ],
   "source": [
    "chain.invoke({\"input\":\"我是一个程序员，你呢？\"})"
   ]
  },
  {
   "cell_type": "code",
   "execution_count": 14,
   "id": "e7eab038-6d28-4b74-8abd-30fffdc3e552",
   "metadata": {},
   "outputs": [
    {
     "data": {
      "text/plain": [
       "{'input': '我的名字是什么？',\n",
       " 'history': [SystemMessage(content=\"The human introduces themselves as 粒粒 and mentions being a programmer. The AI responds warmly, expressing happiness to meet 粒粒 and offering to chat or help with questions while inquiring about their day and interests. The AI also notes 粒粒's experience in coding and asks about the programming languages they use and any interesting projects they are currently working on.\")],\n",
       " 'response': '你的名字是粒粒！很高兴认识你，粒粒！你是一位程序员吗？今天过得怎么样？有没有什么有趣的项目在进行中？'}"
      ]
     },
     "execution_count": 14,
     "metadata": {},
     "output_type": "execute_result"
    }
   ],
   "source": [
    "chain.invoke({\"input\":\"我的名字是什么？\"})"
   ]
  },
  {
   "cell_type": "markdown",
   "id": "f7d5299c-f24b-4247-875c-02ffd2053bf5",
   "metadata": {},
   "source": [
    "## ConversationSummaryBufferMemory"
   ]
  },
  {
   "cell_type": "code",
   "execution_count": 15,
   "id": "66ae2485-d1a3-4768-aee0-c6ee7c339976",
   "metadata": {},
   "outputs": [],
   "source": [
    "memory = ConversationSummaryBufferMemory(llm=llm, max_token_limit=100, return_messages=True)\n",
    "chain = ConversationChain(llm=llm, memory=memory)"
   ]
  },
  {
   "cell_type": "code",
   "execution_count": 16,
   "id": "de7f836e-dcdb-4535-9c5a-cb1c3ea527b5",
   "metadata": {},
   "outputs": [
    {
     "data": {
      "text/plain": [
       "{'input': '你好，我的名字是粒粒',\n",
       " 'history': [HumanMessage(content='你好，我的名字是粒粒'),\n",
       "  AIMessage(content='你好，粒粒！很高兴认识你！我是一个AI助手，可以帮助你解答问题、聊聊天或者分享一些有趣的知识。你今天过得怎么样？有什么特别想聊的吗？')],\n",
       " 'response': '你好，粒粒！很高兴认识你！我是一个AI助手，可以帮助你解答问题、聊聊天或者分享一些有趣的知识。你今天过得怎么样？有什么特别想聊的吗？'}"
      ]
     },
     "execution_count": 16,
     "metadata": {},
     "output_type": "execute_result"
    }
   ],
   "source": [
    "chain.invoke({\"input\":\"你好，我的名字是粒粒\"})"
   ]
  },
  {
   "cell_type": "code",
   "execution_count": 17,
   "id": "3351ee34-f466-4737-bd55-9293cf6826ec",
   "metadata": {},
   "outputs": [
    {
     "data": {
      "text/plain": [
       "{'input': '我是一个程序员，你呢？',\n",
       " 'history': [HumanMessage(content='我是一个程序员，你呢？'),\n",
       "  AIMessage(content='我是一款AI助手，专门设计来帮助用户解答问题和提供信息。虽然我没有编程的能力，但我可以为你提供编程相关的知识、资源和建议！你主要使用什么编程语言呢？或者有没有在进行的项目想分享的？')],\n",
       " 'response': '我是一款AI助手，专门设计来帮助用户解答问题和提供信息。虽然我没有编程的能力，但我可以为你提供编程相关的知识、资源和建议！你主要使用什么编程语言呢？或者有没有在进行的项目想分享的？'}"
      ]
     },
     "execution_count": 17,
     "metadata": {},
     "output_type": "execute_result"
    }
   ],
   "source": [
    "chain.invoke({\"input\":\"我是一个程序员，你呢？\"})"
   ]
  },
  {
   "cell_type": "code",
   "execution_count": 18,
   "id": "8c718af1-6231-4492-9deb-1ab539849c54",
   "metadata": {},
   "outputs": [
    {
     "data": {
      "text/plain": [
       "{'input': '我的名字是什么？我前面说过的',\n",
       " 'history': [SystemMessage(content=\"The human introduces themselves as 粒粒. The AI responds warmly, expressing pleasure in meeting 粒粒 and offering assistance with questions, conversation, or sharing interesting knowledge, while also inquiring about 粒粒's day and any specific topics they wish to discuss.\"),\n",
       "  HumanMessage(content='我是一个程序员，你呢？'),\n",
       "  AIMessage(content='我是一款AI助手，专门设计来帮助用户解答问题和提供信息。虽然我没有编程的能力，但我可以为你提供编程相关的知识、资源和建议！你主要使用什么编程语言呢？或者有没有在进行的项目想分享的？')],\n",
       " 'response': '你的名字是粒粒！很高兴再次看到你，粒粒！有什么我可以帮你的吗？或者想聊聊其他话题吗？'}"
      ]
     },
     "execution_count": 18,
     "metadata": {},
     "output_type": "execute_result"
    }
   ],
   "source": [
    "chain.invoke({\"input\":\"我的名字是什么？我前面说过的\"})"
   ]
  },
  {
   "cell_type": "markdown",
   "id": "9a71a730-215e-432a-8f58-4da84261854d",
   "metadata": {},
   "source": [
    "## ConversationTokenBufferMemory"
   ]
  },
  {
   "cell_type": "code",
   "execution_count": 19,
   "id": "c822e2b3-fa06-41c9-984b-da28cd2e94b7",
   "metadata": {},
   "outputs": [],
   "source": [
    "memory = ConversationTokenBufferMemory(llm=llm, max_token_limit=200, return_messages=True)\n",
    "chain = ConversationChain(llm=llm, memory=memory)"
   ]
  },
  {
   "cell_type": "code",
   "execution_count": 20,
   "id": "ccded041-fee4-4c4f-9b86-9092bd95015f",
   "metadata": {},
   "outputs": [
    {
     "data": {
      "text/plain": [
       "{'input': '你好，我的名字是粒粒',\n",
       " 'history': [HumanMessage(content='你好，我的名字是粒粒'),\n",
       "  AIMessage(content='你好，粒粒！很高兴认识你！我是一个人工智能助手，可以帮助你回答问题、提供信息或者只是聊天。你今天过得怎么样？有什么想聊的呢？')],\n",
       " 'response': '你好，粒粒！很高兴认识你！我是一个人工智能助手，可以帮助你回答问题、提供信息或者只是聊天。你今天过得怎么样？有什么想聊的呢？'}"
      ]
     },
     "execution_count": 20,
     "metadata": {},
     "output_type": "execute_result"
    }
   ],
   "source": [
    "chain.invoke({\"input\":\"你好，我的名字是粒粒\"})"
   ]
  },
  {
   "cell_type": "code",
   "execution_count": 21,
   "id": "edda47ab-6006-42da-9053-e802b49f68a5",
   "metadata": {},
   "outputs": [
    {
     "data": {
      "text/plain": [
       "{'input': '我是一个程序员，你呢？',\n",
       " 'history': [HumanMessage(content='你好，我的名字是粒粒'),\n",
       "  AIMessage(content='你好，粒粒！很高兴认识你！我是一个人工智能助手，可以帮助你回答问题、提供信息或者只是聊天。你今天过得怎么样？有什么想聊的呢？'),\n",
       "  HumanMessage(content='我是一个程序员，你呢？'),\n",
       "  AIMessage(content='我不是一个程序员，但我可以帮助你解决编程相关的问题！我可以提供代码示例、解释概念或者讨论技术趋势。你主要用什么编程语言呢？或者有没有什么特别的项目在进行中？')],\n",
       " 'response': '我不是一个程序员，但我可以帮助你解决编程相关的问题！我可以提供代码示例、解释概念或者讨论技术趋势。你主要用什么编程语言呢？或者有没有什么特别的项目在进行中？'}"
      ]
     },
     "execution_count": 21,
     "metadata": {},
     "output_type": "execute_result"
    }
   ],
   "source": [
    "chain.invoke({\"input\":\"我是一个程序员，你呢？\"})"
   ]
  },
  {
   "cell_type": "code",
   "execution_count": 22,
   "id": "eabd6ba4-a787-4c51-8dc4-427af0bada80",
   "metadata": {},
   "outputs": [
    {
     "data": {
      "text/plain": [
       "{'input': '我的名字是什么？我前面说过的',\n",
       " 'history': [HumanMessage(content='你好，我的名字是粒粒'),\n",
       "  AIMessage(content='你好，粒粒！很高兴认识你！我是一个人工智能助手，可以帮助你回答问题、提供信息或者只是聊天。你今天过得怎么样？有什么想聊的呢？'),\n",
       "  HumanMessage(content='我是一个程序员，你呢？'),\n",
       "  AIMessage(content='我不是一个程序员，但我可以帮助你解决编程相关的问题！我可以提供代码示例、解释概念或者讨论技术趋势。你主要用什么编程语言呢？或者有没有什么特别的项目在进行中？'),\n",
       "  HumanMessage(content='我的名字是什么？我前面说过的'),\n",
       "  AIMessage(content='你的名字是粒粒！很高兴再次提到你。你在编程方面有什么特别的兴趣或者项目吗？')],\n",
       " 'response': '你的名字是粒粒！很高兴再次提到你。你在编程方面有什么特别的兴趣或者项目吗？'}"
      ]
     },
     "execution_count": 22,
     "metadata": {},
     "output_type": "execute_result"
    }
   ],
   "source": [
    "chain.invoke({\"input\":\"我的名字是什么？我前面说过的\"})"
   ]
  },
  {
   "cell_type": "code",
   "execution_count": null,
   "id": "9e31d032-3c38-4ac6-b46b-a45a026efce3",
   "metadata": {},
   "outputs": [],
   "source": []
  }
 ],
 "metadata": {
  "kernelspec": {
   "display_name": "Python 3 (ipykernel)",
   "language": "python",
   "name": "python3"
  },
  "language_info": {
   "codemirror_mode": {
    "name": "ipython",
    "version": 3
   },
   "file_extension": ".py",
   "mimetype": "text/x-python",
   "name": "python",
   "nbconvert_exporter": "python",
   "pygments_lexer": "ipython3",
   "version": "3.11.9"
  }
 },
 "nbformat": 4,
 "nbformat_minor": 5
}
