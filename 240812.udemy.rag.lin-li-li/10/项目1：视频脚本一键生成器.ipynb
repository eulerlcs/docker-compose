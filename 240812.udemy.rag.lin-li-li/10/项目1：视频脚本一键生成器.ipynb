{
 "cells": [
  {
   "cell_type": "code",
   "execution_count": 19,
   "id": "6b46d10f-8da9-4654-a735-9206aa6588e4",
   "metadata": {},
   "outputs": [],
   "source": [
    "from langchain.prompts import ChatPromptTemplate\n",
    "from langchain_openai import ChatOpenAI\n",
    "from langchain_community.utilities import WikipediaAPIWrapper\n",
    "\n",
    "\n",
    "def generate_script(subject, video_length, creativity, api_key):\n",
    "    title_template = ChatPromptTemplate.from_messages(\n",
    "        [\n",
    "            (\"human\", \"请为'{subject}'这个主题的视频想一个吸引人的标题\")\n",
    "        ]\n",
    "    )\n",
    "    script_template = ChatPromptTemplate.from_messages(\n",
    "        [\n",
    "            (\"human\",\n",
    "             \"\"\"你是一位短视频频道的博主。根据以下标题和相关信息，为短视频频道写一个视频脚本。\n",
    "             视频标题：{title}，视频时长：{duration}分钟，生成的脚本的长度尽量遵循视频时长的要求。\n",
    "             要求开头抓住限球，中间提供干货内容，结尾有惊喜，脚本格式也请按照【开头、中间，结尾】分隔。\n",
    "             整体内容的表达方式要尽量轻松有趣，吸引年轻人。\n",
    "             脚本内容可以结合以下维基百科搜索出的信息，但仅作为参考，只结合相关的即可，对不相关的进行忽略：\n",
    "             ```{wikipedia_search}```\"\"\")\n",
    "        ]\n",
    "    )\n",
    "\n",
    "    model=\"gpt-4o-2024-08-06\"\n",
    "    model=\"gpt-4o-mini\"\n",
    "#   llm = ChatOpenAI(openai_api_key=api_key, temperature=creativity)\n",
    "    llm = ChatOpenAI(openai_api_key=api_key, model=model, temperature=creativity)\n",
    "\n",
    "    title_chain = title_template | llm\n",
    "    script_chain = script_template | llm\n",
    "\n",
    "    title = title_chain.invoke({\"subject\": subject}).content\n",
    "\n",
    "    search = WikipediaAPIWrapper(lang=\"zh\")\n",
    "    search_result = search.run(subject)\n",
    "\n",
    "    script = script_chain.invoke({\"title\": title, \"duration\": video_length, \"wikipedia_search\": search_result}).content\n",
    "\n",
    "    return search_result, title, script\n"
   ]
  },
  {
   "cell_type": "code",
   "execution_count": 20,
   "id": "9d3ae1bb-df43-4c99-a74d-75dce80a61dd",
   "metadata": {},
   "outputs": [
    {
     "name": "stderr",
     "output_type": "stream",
     "text": [
      "d:\\euler\\miniconda3\\envs\\s-langchain\\Lib\\site-packages\\wikipedia\\wikipedia.py:389: GuessedAtParserWarning: No parser was explicitly specified, so I'm using the best available HTML parser for this system (\"html.parser\"). This usually isn't a problem, but if you run this code on another system, or in a different virtual environment, it may use a different parser and behave differently.\n",
      "\n",
      "The code that caused this warning is on line 389 of the file d:\\euler\\miniconda3\\envs\\s-langchain\\Lib\\site-packages\\wikipedia\\wikipedia.py. To get rid of this warning, pass the additional argument 'features=\"html.parser\"' to the BeautifulSoup constructor.\n",
      "\n",
      "  lis = BeautifulSoup(html).find_all('li')\n"
     ]
    }
   ],
   "source": [
    "import os\n",
    "\n",
    "search_result, title, script = generate_script(\"sora模型\", 1, 0.7, os.getenv(\"OPENAI_API_KEY\"))"
   ]
  },
  {
   "cell_type": "code",
   "execution_count": 21,
   "id": "2dc5eb50-ab23-4659-ae5e-07da81a0be4c",
   "metadata": {},
   "outputs": [
    {
     "name": "stdout",
     "output_type": "stream",
     "text": [
      "Page: Sora (人工智能模型)\n",
      "Summary: Sora是一个能以文本描述生成视频的人工智能模型，由美国人工智能研究机构OpenAI开发。\n",
      "Sora这一名称源于日文“空”（そら sora），即天空之意，以示其无限的创造潜力。其背后的技术是在OpenAI的文本到图像生成模型DALL-E基础上开发而成的。模型的训练数据既包含公开可用的视频，也包括了专为训练目的而获授权的版权视频，但OpenAI没有公开训练数据的具体数量与确切来源。\n",
      "OpenAI于2024年2月15日向公众展示了由Sora生成的多个高清视频，称该模型能够生成长达一分钟的视频。同时，OpenAI也承认了该技术的一些缺点，包括在模拟复杂物理现象方面的困难。《麻省理工科技评论》的报道称演示视频令人印象深刻，但指出它们可能是经精心挑选的，并不一定能代表Sora生成视频的普遍水准。\n",
      "由于担心Sora可能被滥用，OpenAI表示目前没有计划向公众发布该模型，而是给予小部分研究人员有限的访问权限，以理解模型的潜在危害。Sora生成的视频带有C2PA元数据标签，以表示它们是由人工智能模型生成的。OpenAI还与一小群创意专业人士分享了Sora，以获取对其实用性的反馈。\n",
      "\n",
      "Page: 文本到图像生成模型\n",
      "Summary: 文本到图像生成模型是一种机器学习模型，一般以自然语言描述为输入，输出与该描述相匹配的图像。这种模型的开发始于2010年代中期，伴随深度神经网络技术的发展而进步。2022年，最先进的文生图模型，例如OpenAI的DALL-E 2、谷歌大脑的Imagen和StabilityAI的Stable Diffusion，其品質开始接近真实照片或是人类所绘艺术作品。\n",
      "文生图模型通常结合了一个语言模型，负责将输入的文本转化为机器描述，而图像生成模型则负责生成图像。最有效的模型通常是用从互联网上抓取的大量图像和文本数据训练出来的。\n"
     ]
    }
   ],
   "source": [
    "print(search_result)"
   ]
  },
  {
   "cell_type": "code",
   "execution_count": 22,
   "id": "4b8bddcc-2760-4ce4-b630-668527a0940d",
   "metadata": {},
   "outputs": [
    {
     "name": "stdout",
     "output_type": "stream",
     "text": [
      "《探索Sora模型：颠覆传统的智能未来！》\n"
     ]
    }
   ],
   "source": [
    "print(title)"
   ]
  },
  {
   "cell_type": "code",
   "execution_count": 23,
   "id": "d13876b5-07d5-49db-af87-7571ffb01ada",
   "metadata": {},
   "outputs": [
    {
     "name": "stdout",
     "output_type": "stream",
     "text": [
      "**视频脚本：《探索Sora模型：颠覆传统的智能未来！》**\n",
      "\n",
      "**【开头】**  \n",
      "（画面切入，动态的科技背景，轻快的音乐响起）  \n",
      "大家好，欢迎来到我的频道！今天我们要聊一个超级酷的东西——Sora模型！想象一下，只要你说出一个简单的描述，这个模型就能把它变成一个炫酷的视频！听起来是不是像科幻电影里的情节？但它真的来了！让我们一起探索这个颠覆传统的智能未来吧！\n",
      "\n",
      "**【中间】**  \n",
      "（画面切换，展示Sora模型的示例视频片段）  \n",
      "Sora是由OpenAI开发的一个人工智能模型，名字来源于日文“空”，寓意它的创造潜力是无限的！基于他们的DALL-E技术，Sora可以生成最长达一分钟的视频。你可以想象一下，简单输入一段文字，它迅速生成的画面让你眼前一亮！不过，虽然它很厉害，但也有点小缺陷，比如模拟复杂的物理现象时可能会掉链子。\n",
      "\n",
      "（画面展示Sora生成的视频与传统视频的对比）  \n",
      "而且，OpenAI为了确保这个技术的安全性，目前并没有计划让公众完全接触Sora，只给了一小部分研究人员使用权限，以了解它的潜在风险。为了让大家放心，Sora生成的视频还会带有标识，告诉你它是由AI制作的，而不是人类拍摄的。\n",
      "\n",
      "**【结尾】**  \n",
      "（画面切换，展示Sora的未来应用场景，激动的音乐逐渐升高）  \n",
      "那么，你是否想象过，未来的创作会变成怎样？用Sora模型，任何人都可以成为视频创作者！想要拍摄电影、制作短视频，甚至是记录生活点滴，都轻松搞定！而且，OpenAI也在不断收集创意专业人士的反馈，以便提升这个模型的实用性。\n",
      "\n",
      "（画面最后出现“关注我，了解更多未来科技！”的文字和图标）  \n",
      "别忘了关注我，未来我们将一起见证更多智能科技的奇迹！下期再见，相信未来会更精彩！\n"
     ]
    }
   ],
   "source": [
    "print(script)"
   ]
  },
  {
   "cell_type": "code",
   "execution_count": null,
   "id": "a7cd2783-1287-4e46-8a44-c1f93b61f16e",
   "metadata": {},
   "outputs": [],
   "source": []
  }
 ],
 "metadata": {
  "kernelspec": {
   "display_name": "Python 3 (ipykernel)",
   "language": "python",
   "name": "python3"
  },
  "language_info": {
   "codemirror_mode": {
    "name": "ipython",
    "version": 3
   },
   "file_extension": ".py",
   "mimetype": "text/x-python",
   "name": "python",
   "nbconvert_exporter": "python",
   "pygments_lexer": "ipython3",
   "version": "3.11.9"
  }
 },
 "nbformat": 4,
 "nbformat_minor": 5
}
